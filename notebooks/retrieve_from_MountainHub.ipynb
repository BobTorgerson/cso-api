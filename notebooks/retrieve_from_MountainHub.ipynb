{
 "cells": [
  {
   "cell_type": "markdown",
   "metadata": {},
   "source": [
    "### Retrieve from MountainHub\n",
    "\n",
    "This code allow for direct access to the MountainHub API. Data are returned in a Pandas dataframe.\n",
    "\n",
    "Some code is adopted from Don Setiawan's work stored in the [cso legacy api](https://github.com/communitysnowobs/cso-legacy-api).\n",
    "\n",
    "A. Arendt 20191231\n"
   ]
  },
  {
   "cell_type": "code",
   "execution_count": 1,
   "metadata": {},
   "outputs": [],
   "source": [
    "import sys\n",
    "import time\n",
    "import datetime\n",
    "\n",
    "import pandas as pd\n",
    "import geopandas as gpd\n",
    "import requests\n",
    "\n",
    "BASE_URL = 'https://api.mountainhub.com/timeline'\n",
    "HEADER = { 'Accept-version': '1' }\n",
    "ONE_MONTH = 2592000000"
   ]
  },
  {
   "cell_type": "markdown",
   "metadata": {},
   "source": [
    "Load these [utility functions from the cso-legacy-api](https://github.com/communitysnowobs/cso-legacy-api/blob/master/src/common/utils.py).\n",
    "\n",
    "Todo: move these to a script after testing."
   ]
  },
  {
   "cell_type": "code",
   "execution_count": 29,
   "metadata": {},
   "outputs": [],
   "source": [
    "def empty_cso_dataframe():\n",
    "    return pd.DataFrame(columns = [\n",
    "        'author_name',\n",
    "        'id',\n",
    "        'timestamp',\n",
    "        'lat',\n",
    "        'long',\n",
    "        'snow_depth',\n",
    "        'source',\n",
    "        'elevation',\n",
    "        'comment'\n",
    "    ])\n",
    "\n",
    "def date_to_timestamp(date):\n",
    "    \"\"\"Converts datetime object to unix timestamp.\n",
    "    Keyword arguments:\n",
    "    date -- Datetime object to convert\n",
    "    \"\"\"\n",
    "    if date is None:\n",
    "        return date\n",
    "    return int(time.mktime(date.timetuple())) * 1000\n",
    "\n",
    "def timestamp_to_date(timestamp):\n",
    "    \"\"\"Converts unix timestamp to datettime object.\n",
    "    Keyword arguments:\n",
    "    timestamp -- Timestamp to convert\n",
    "    \"\"\"\n",
    "    if timestamp is None:\n",
    "        return timestamp\n",
    "    return datetime.date.fromtimestamp(timestamp / 1000)"
   ]
  },
  {
   "cell_type": "code",
   "execution_count": 3,
   "metadata": {},
   "outputs": [],
   "source": [
    "now_ts = date_to_timestamp(datetime.datetime.now())\n",
    "start_ts = date_to_timestamp(datetime.datetime(2019,12,31))"
   ]
  },
  {
   "cell_type": "markdown",
   "metadata": {},
   "source": [
    "Load parsing function from the [MountainHub cso-legacy-api script](https://github.com/communitysnowobs/cso-webapp/blob/dev/src/csoapi/apps/cso/types/snowobs.py).\n",
    "\n",
    "#### NOTE: the MountainHub API has different named fields than what we were previously using in the legacy script above.\n",
    "\n",
    "The code below is an attempt to match what is now in the MountainHub API:"
   ]
  },
  {
   "cell_type": "code",
   "execution_count": 4,
   "metadata": {},
   "outputs": [],
   "source": [
    "def parse_data(results):\n",
    "    observations = []\n",
    "\n",
    "    for idx, res in enumerate(results):\n",
    "        obs_data = {}\n",
    "        try:\n",
    "            observation = res['observation']\n",
    "            obs_data['obs_id'] = observation['_id']\n",
    "            obs_data['timestamp'] = int(observation['reported_at'])\n",
    "            obs_data['obs_type'] = observation['type']\n",
    "            obs_data['comment'] = observation['description']\n",
    "            if len(observation['details']) > 0:\n",
    "                if observation['details'][0]:\n",
    "                    if 'snowpack_depth' in observation['details'][0].keys():\n",
    "                        obs_data['snow_depth'] = observation['details'][0]['snowpack_depth'] \n",
    "        except:    \n",
    "            obs_data['obs_id'] = 'None'\n",
    "            #obs_data['timestamp'] = 'None'\n",
    "            obs_data['obs_type'] = 'None'\n",
    "            #obs_data['snow_depth'] = some dummy value?\n",
    "        finally:\n",
    "            actor = res['actor']\n",
    "            if 'full_name' in actor.keys():\n",
    "                obs_data['author_name'] = actor['full_name']\n",
    "            elif 'fullName' in actor.keys():\n",
    "                obs_data['author_name'] = actor['fullName']\n",
    "            obs_data['id'] = idx\n",
    "            obs_data['lat'] = res['location']['coordinates'][1]\n",
    "            obs_data['lng'] = res['location']['coordinates'][0]\n",
    "            obs_data['source'] = 'MountainHub'\n",
    "        observations.append(obs_data)\n",
    "\n",
    "    df = pd.DataFrame.from_records(observations).dropna()\n",
    "\n",
    "    return df[df['snow_depth'] != 'undefined']"
   ]
  },
  {
   "cell_type": "code",
   "execution_count": 5,
   "metadata": {},
   "outputs": [],
   "source": [
    "def fetch_raw_data(min_timestamp, max_timestamp, is_raw_json=False):\n",
    "\n",
    "    args = {\n",
    "      'publisher': 'all',\n",
    "      'limit': 10000,\n",
    "      'since' : min_timestamp,\n",
    "      'before' : max_timestamp,\n",
    "    }\n",
    "\n",
    "    response = requests.get(BASE_URL, params=args, headers=HEADER)\n",
    "    data = response.json()\n",
    "    results = data['results']\n",
    "    return parse_data(results)"
   ]
  },
  {
   "cell_type": "code",
   "execution_count": 9,
   "metadata": {},
   "outputs": [],
   "source": [
    "df = fetch_raw_data(start_ts, now_ts )"
   ]
  },
  {
   "cell_type": "code",
   "execution_count": 46,
   "metadata": {},
   "outputs": [
    {
     "data": {
      "text/plain": [
       "Index(['obs_id', 'obs_type', 'author_name', 'id', 'lat', 'lng', 'source',\n",
       "       'timestamp', 'comment', 'snow_depth'],\n",
       "      dtype='object')"
      ]
     },
     "execution_count": 46,
     "metadata": {},
     "output_type": "execute_result"
    }
   ],
   "source": [
    "df.columns"
   ]
  },
  {
   "cell_type": "code",
   "execution_count": 49,
   "metadata": {},
   "outputs": [],
   "source": [
    "df.assign(date = df['timestamp'].apply(timestamp_to_date)).drop(columns = ['timestamp','obs_id']).to_csv('data.csv')"
   ]
  },
  {
   "cell_type": "code",
   "execution_count": null,
   "metadata": {},
   "outputs": [],
   "source": []
  }
 ],
 "metadata": {
  "kernelspec": {
   "display_name": "Python 3",
   "language": "python",
   "name": "python3"
  },
  "language_info": {
   "codemirror_mode": {
    "name": "ipython",
    "version": 3
   },
   "file_extension": ".py",
   "mimetype": "text/x-python",
   "name": "python",
   "nbconvert_exporter": "python",
   "pygments_lexer": "ipython3",
   "version": "3.7.3"
  }
 },
 "nbformat": 4,
 "nbformat_minor": 4
}
