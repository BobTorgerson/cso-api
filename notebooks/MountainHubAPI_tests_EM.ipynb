{
 "cells": [
  {
   "cell_type": "markdown",
   "metadata": {},
   "source": [
    "# MountainHub API request tests from Emilio\n",
    "\n",
    "Adapted from `retrieve_from_MountainHub.ipynb`\n",
    "\n",
    "\n",
    "## Original header notes from Anthony\n",
    "This code allow for direct access to the MountainHub API. Data are returned in a Pandas dataframe.\n",
    "\n",
    "Some code is adopted from Don Setiawan's work stored in the [cso legacy api](https://github.com/communitysnowobs/cso-legacy-api).\n",
    "\n",
    "A. Arendt 20191231"
   ]
  },
  {
   "cell_type": "markdown",
   "metadata": {},
   "source": [
    "## Notes from Emilio\n",
    "\n",
    "- 2020-1-17. https://github.com/emiliom\n",
    "- The operational javascript code that requests data from the MountainHub API is in [src/import/providers/mountainhub.js](https://github.com/communitysnowobs/cso-api/blob/master/src/import/providers/mountainhub.js)\n",
    "- https://api.mountainhub.com returns an error, \"ResourceNotFound\", instead of useful API documentation\n",
    "- https://api.mountainhub.com/timeline is the working endpoint\n",
    "- Are there other endpoints besides `timeline`?\n",
    "- The response is a JSON with two top elements: `results` and `pagination`. `results` is a list where each element is pretty complex and has a lot of information extraneous to CSO needs, related to the user, social linkages, etc\n",
    "    - The `observation` element of a `results` element seems to have the key data of interest\n",
    "    - All timestamps are in epoch milliseconds. I assume they're in UTC, but it'd be good to get official confirmation.\n",
    "- Looks like the API response is **paginated**, with a max number of records returned presumably set by the `limit` parameter that is passed\n",
    "- Is there an API request that returns the number of results that would be returned in all \"pages\"\n",
    "- Where are the API parameters documented? The code below has these:\n",
    "```python\n",
    "args = {\n",
    "  'publisher': 'all',\n",
    "  'limit': 10000,\n",
    "  'since' : min_timestamp,\n",
    "  'before' : max_timestamp,\n",
    "}\n",
    "```\n",
    "- There is a request parameter for 'observation' type: `obs_type`. Known values so far are \"snow_conditions\" and \"snowpack_test\"; this was obtained from the current `mountainhub.js` code (see [line 20](https://github.com/communitysnowobs/cso-api/blob/master/src/import/providers/mountainhub.js#L20) and [line 27](https://github.com/communitysnowobs/cso-api/blob/master/src/import/providers/mountainhub.js#L27)) and confirmed via just one set of responses. Incorporating this understanding would probably simplify the processing of the response and would make for smaller responses.\n",
    "\n",
    "### My conda environment\n",
    "\n",
    "For now, while focusing on the MountainHub API alone, I wanted to keep my conda environment slim and without too many extraneous packages. So I created my own environment file, adapted from https://github.com/communitysnowobs/cso-api/blob/master/csodb.yml. I kept geospatial packages I'm not using yet, but removed everything else not being used. I also slimmmed down the jupyter packages to follow my current personal practice of running notebooks in JupyterLab where JupyterLab itself is started on its own conda env. So, the only jupyter-related package needed in that context is `ipykernel`. Here's the content of my yaml conda environment file:\n",
    "\n",
    "```yaml\n",
    "name: mountainhubapi\n",
    "channels:\n",
    "- conda-forge\n",
    "- defaults\n",
    "dependencies:\n",
    "- python=3.7\n",
    "- ipykernel\n",
    "- geopandas\n",
    "- geojson\n",
    "- folium\n",
    "- cartopy\n",
    "- pyyaml\n",
    "```"
   ]
  },
  {
   "cell_type": "markdown",
   "metadata": {},
   "source": [
    "## Imports and utility functions"
   ]
  },
  {
   "cell_type": "code",
   "execution_count": 1,
   "metadata": {},
   "outputs": [],
   "source": [
    "import sys\n",
    "import time\n",
    "import datetime\n",
    "\n",
    "import requests\n",
    "import pandas as pd\n",
    "import geopandas as gpd"
   ]
  },
  {
   "cell_type": "code",
   "execution_count": 2,
   "metadata": {},
   "outputs": [],
   "source": [
    "BASE_URL = 'https://api.mountainhub.com/timeline'  # Are there other API endpoints besides \"timeline\"?\n",
    "HEADER = { 'Accept-version': '1' }  # How do we know what versions are available?\n",
    "\n",
    "ONE_MONTH = 2592000000  # This isn't used anywhere"
   ]
  },
  {
   "cell_type": "markdown",
   "metadata": {},
   "source": [
    "Load these [utility functions from the cso-legacy-api](https://github.com/communitysnowobs/cso-legacy-api/blob/master/src/common/utils.py).\n",
    "\n",
    "Todo: move these to a script after testing."
   ]
  },
  {
   "cell_type": "code",
   "execution_count": 3,
   "metadata": {},
   "outputs": [],
   "source": [
    "def date_to_timestamp(date):\n",
    "    \"\"\"Converts datetime object to unix timestamp.\n",
    "    Keyword arguments:\n",
    "    date -- Datetime object to convert\n",
    "    \"\"\"\n",
    "    if date is None:\n",
    "        return date\n",
    "    return int(time.mktime(date.timetuple())) * 1000\n",
    "\n",
    "def timestamp_to_date(timestamp):\n",
    "    \"\"\"Converts unix timestamp to datetime date object.\n",
    "    Keyword arguments:\n",
    "    timestamp -- Timestamp to convert\n",
    "    \"\"\"\n",
    "    if timestamp is None:\n",
    "        return timestamp\n",
    "    return datetime.date.fromtimestamp(timestamp / 1000)\n",
    "\n",
    "def timestamp_to_datetime(timestamp):\n",
    "    \"\"\"Converts unix timestamp to datetime datetime object.\n",
    "    Keyword arguments:\n",
    "    timestamp -- Timestamp to convert\n",
    "    \"\"\"\n",
    "    if timestamp is None:\n",
    "        return timestamp\n",
    "    return datetime.datetime.fromtimestamp(timestamp / 1000)"
   ]
  },
  {
   "cell_type": "code",
   "execution_count": 4,
   "metadata": {},
   "outputs": [],
   "source": [
    "now_ts = date_to_timestamp(datetime.datetime.now())\n",
    "start_ts = date_to_timestamp(datetime.datetime(2019,12,31))"
   ]
  },
  {
   "cell_type": "code",
   "execution_count": 5,
   "metadata": {},
   "outputs": [
    {
     "data": {
      "text/plain": [
       "(1579293256000, 1577779200000)"
      ]
     },
     "execution_count": 5,
     "metadata": {},
     "output_type": "execute_result"
    }
   ],
   "source": [
    "now_ts, start_ts"
   ]
  },
  {
   "cell_type": "markdown",
   "metadata": {},
   "source": [
    "Load parsing function from the [MountainHub cso-legacy-api script](https://github.com/communitysnowobs/cso-webapp/blob/dev/src/csoapi/apps/cso/types/snowobs.py).\n",
    "\n",
    "#### NOTE: the MountainHub API has different named fields than what we were previously using in the legacy script above.\n",
    "\n",
    "The code below is an attempt to match what is now in the MountainHub API:"
   ]
  },
  {
   "cell_type": "code",
   "execution_count": 6,
   "metadata": {},
   "outputs": [],
   "source": [
    "def parse_data(results):\n",
    "    observations = []\n",
    "\n",
    "    for idx, res in enumerate(results):\n",
    "        obs_data = {}\n",
    "        # EM: The use of this try-except-finally scheme seems awkward and makes the \n",
    "        # intent and flow more opaque -- at least for my taste.\n",
    "        # I think the intent would be clearer with a simpler if-else block with \n",
    "        # handling based on res['type'] = 'observation' and res['observation']['type']\n",
    "        # Also, using enumerate and storing result `idx` is not really necessary\n",
    "        try:\n",
    "            observation = res['observation']\n",
    "            obs_data['obs_id'] = observation['_id']\n",
    "            obs_data['timestamp'] = int(observation['reported_at'])\n",
    "            obs_data['obs_type'] = observation['type']\n",
    "            obs_data['comment'] = observation['description']\n",
    "            if len(observation['details']) > 0:\n",
    "                if observation['details'][0]:\n",
    "                    if 'snowpack_depth' in observation['details'][0].keys():\n",
    "                        obs_data['snow_depth'] = observation['details'][0]['snowpack_depth'] \n",
    "        except:    \n",
    "            obs_data['obs_id'] = 'None'\n",
    "            #obs_data['timestamp'] = 'None'\n",
    "            obs_data['obs_type'] = 'None'\n",
    "            #obs_data['snow_depth'] = some dummy value?\n",
    "        finally:\n",
    "            actor = res['actor']\n",
    "            if 'full_name' in actor.keys():\n",
    "                obs_data['author_name'] = actor['full_name']\n",
    "            elif 'fullName' in actor.keys():\n",
    "                obs_data['author_name'] = actor['fullName']\n",
    "            obs_data['id'] = idx\n",
    "            obs_data['lat'] = res['location']['coordinates'][1]\n",
    "            obs_data['lng'] = res['location']['coordinates'][0]\n",
    "            obs_data['source'] = 'MountainHub'\n",
    "        observations.append(obs_data)\n",
    "\n",
    "    df = pd.DataFrame.from_records(observations).dropna()\n",
    "\n",
    "    # EM: There is no case (as far as I can see based on spot checks) \n",
    "    # where snow_depth is coded as 'undefined'. I think it accomplishes \n",
    "    # what is intended, but how that comes about is opaque.\n",
    "    return df[df['snow_depth'] != 'undefined']"
   ]
  },
  {
   "cell_type": "code",
   "execution_count": 7,
   "metadata": {},
   "outputs": [],
   "source": [
    "def fetch_raw_data(min_timestamp, max_timestamp, limit=10000, obs_type_filter=None):\n",
    "    # is_raw_json=False is not used, so I removed it\n",
    "    # Also added limit and obs_type_filter as function arguments\n",
    "\n",
    "    args = {\n",
    "      'publisher': 'all',\n",
    "      'limit': limit,\n",
    "      'since' : min_timestamp,\n",
    "      'before' : max_timestamp,\n",
    "    }\n",
    "    # currently known, relevant options: snow_conditions, snowpack_test\n",
    "    if obs_type_filter:\n",
    "        args['obs_type'] = obs_type_filter\n",
    "\n",
    "    response = requests.get(BASE_URL, params=args, headers=HEADER)\n",
    "    data = response.json()\n",
    "    results = data['results']\n",
    "    \n",
    "    # Added data as an additional returned variable, \n",
    "    # to provide more info for exploration and debugging\n",
    "    return parse_data(results), data"
   ]
  },
  {
   "cell_type": "markdown",
   "metadata": {},
   "source": [
    "## Fetch-data tests"
   ]
  },
  {
   "cell_type": "code",
   "execution_count": 8,
   "metadata": {},
   "outputs": [],
   "source": [
    "df, jsonresponse = fetch_raw_data(start_ts, now_ts, \n",
    "                                  limit=500, obs_type_filter=None)"
   ]
  },
  {
   "cell_type": "code",
   "execution_count": 9,
   "metadata": {},
   "outputs": [
    {
     "data": {
      "text/plain": [
       "Index(['obs_id', 'timestamp', 'obs_type', 'author_name', 'id', 'lat', 'lng',\n",
       "       'source', 'comment', 'snow_depth'],\n",
       "      dtype='object')"
      ]
     },
     "execution_count": 9,
     "metadata": {},
     "output_type": "execute_result"
    }
   ],
   "source": [
    "df.columns"
   ]
  },
  {
   "cell_type": "code",
   "execution_count": 10,
   "metadata": {},
   "outputs": [
    {
     "data": {
      "text/plain": [
       "20"
      ]
     },
     "execution_count": 10,
     "metadata": {},
     "output_type": "execute_result"
    }
   ],
   "source": [
    "len(df)"
   ]
  },
  {
   "cell_type": "code",
   "execution_count": 11,
   "metadata": {},
   "outputs": [
    {
     "data": {
      "text/html": [
       "<div>\n",
       "<style scoped>\n",
       "    .dataframe tbody tr th:only-of-type {\n",
       "        vertical-align: middle;\n",
       "    }\n",
       "\n",
       "    .dataframe tbody tr th {\n",
       "        vertical-align: top;\n",
       "    }\n",
       "\n",
       "    .dataframe thead th {\n",
       "        text-align: right;\n",
       "    }\n",
       "</style>\n",
       "<table border=\"1\" class=\"dataframe\">\n",
       "  <thead>\n",
       "    <tr style=\"text-align: right;\">\n",
       "      <th></th>\n",
       "      <th>obs_id</th>\n",
       "      <th>timestamp</th>\n",
       "      <th>obs_type</th>\n",
       "      <th>author_name</th>\n",
       "      <th>id</th>\n",
       "      <th>lat</th>\n",
       "      <th>lng</th>\n",
       "      <th>source</th>\n",
       "      <th>comment</th>\n",
       "      <th>snow_depth</th>\n",
       "      <th>datetime</th>\n",
       "    </tr>\n",
       "  </thead>\n",
       "  <tbody>\n",
       "    <tr>\n",
       "      <th>6</th>\n",
       "      <td>5e20f99f90f4304604681cf4</td>\n",
       "      <td>1.579219e+12</td>\n",
       "      <td>snowpack_test</td>\n",
       "      <td>Dusty Hanna</td>\n",
       "      <td>6</td>\n",
       "      <td>43.431503</td>\n",
       "      <td>142.641712</td>\n",
       "      <td>MountainHub</td>\n",
       "      <td>01/16/2019</td>\n",
       "      <td>90</td>\n",
       "      <td>2020-01-16 16:02:19.678</td>\n",
       "    </tr>\n",
       "    <tr>\n",
       "      <th>9</th>\n",
       "      <td>5e1fa6894fdb45291ad99625</td>\n",
       "      <td>1.579133e+12</td>\n",
       "      <td>snow_conditions</td>\n",
       "      <td>Karsten von Hoesslin</td>\n",
       "      <td>9</td>\n",
       "      <td>47.467110</td>\n",
       "      <td>-115.845984</td>\n",
       "      <td>MountainHub</td>\n",
       "      <td>Full profile. \\nCTE4 Down 10\\nCTM3 Down 21\\nTi...</td>\n",
       "      <td>170</td>\n",
       "      <td>2020-01-15 15:55:34.912</td>\n",
       "    </tr>\n",
       "    <tr>\n",
       "      <th>18</th>\n",
       "      <td>5e1fe41c21aa1476f41f2861</td>\n",
       "      <td>1.579098e+12</td>\n",
       "      <td>snow_conditions</td>\n",
       "      <td>Brint Markle</td>\n",
       "      <td>18</td>\n",
       "      <td>40.666391</td>\n",
       "      <td>-111.538634</td>\n",
       "      <td>MountainHub</td>\n",
       "      <td>CSO Snow Depth Ob</td>\n",
       "      <td>102</td>\n",
       "      <td>2020-01-15 06:21:55.349</td>\n",
       "    </tr>\n",
       "    <tr>\n",
       "      <th>22</th>\n",
       "      <td>5e1e4b71fe74e848ff10cda0</td>\n",
       "      <td>1.579044e+12</td>\n",
       "      <td>snow_conditions</td>\n",
       "      <td>Karsten von Hoesslin</td>\n",
       "      <td>22</td>\n",
       "      <td>46.919965</td>\n",
       "      <td>-113.874880</td>\n",
       "      <td>MountainHub</td>\n",
       "      <td>Field Obs &amp; Full Profile\\nTime: 14:15\\nWind: N...</td>\n",
       "      <td>73</td>\n",
       "      <td>2020-01-14 15:13:45.501</td>\n",
       "    </tr>\n",
       "    <tr>\n",
       "      <th>26</th>\n",
       "      <td>5e1e696c27c9690d79ce307d</td>\n",
       "      <td>1.579025e+12</td>\n",
       "      <td>snowpack_test</td>\n",
       "      <td>Allen OBannon</td>\n",
       "      <td>26</td>\n",
       "      <td>43.510962</td>\n",
       "      <td>-110.920887</td>\n",
       "      <td>MountainHub</td>\n",
       "      <td>ECTN15 20 cm down, ECTN28  40 cm down all on d...</td>\n",
       "      <td>170</td>\n",
       "      <td>2020-01-14 10:06:29.357</td>\n",
       "    </tr>\n",
       "    <tr>\n",
       "      <th>29</th>\n",
       "      <td>5e1cdabe21b9f44090eae92b</td>\n",
       "      <td>1.578949e+12</td>\n",
       "      <td>snow_conditions</td>\n",
       "      <td>DKS</td>\n",
       "      <td>29</td>\n",
       "      <td>42.789151</td>\n",
       "      <td>-122.146456</td>\n",
       "      <td>MountainHub</td>\n",
       "      <td>150c to rain</td>\n",
       "      <td>239.99999095961812</td>\n",
       "      <td>2020-01-13 13:00:37.106</td>\n",
       "    </tr>\n",
       "    <tr>\n",
       "      <th>34</th>\n",
       "      <td>5e1cd0a221b9f44090ead68a</td>\n",
       "      <td>1.578947e+12</td>\n",
       "      <td>snow_conditions</td>\n",
       "      <td>DKS</td>\n",
       "      <td>34</td>\n",
       "      <td>42.787901</td>\n",
       "      <td>-122.150746</td>\n",
       "      <td>MountainHub</td>\n",
       "      <td>85c to rain layer</td>\n",
       "      <td>178.99999325738185</td>\n",
       "      <td>2020-01-13 12:17:28.198</td>\n",
       "    </tr>\n",
       "    <tr>\n",
       "      <th>36</th>\n",
       "      <td>5e1cc32521b9f44090eabf33</td>\n",
       "      <td>1.578943e+12</td>\n",
       "      <td>snow_conditions</td>\n",
       "      <td>DKS</td>\n",
       "      <td>36</td>\n",
       "      <td>42.787124</td>\n",
       "      <td>-122.142332</td>\n",
       "      <td>MountainHub</td>\n",
       "      <td>100cm to rain layer</td>\n",
       "      <td>152.99999423675655</td>\n",
       "      <td>2020-01-13 11:19:55.480</td>\n",
       "    </tr>\n",
       "    <tr>\n",
       "      <th>41</th>\n",
       "      <td>5e1e4aaceff2ff59509d5865</td>\n",
       "      <td>1.578869e+12</td>\n",
       "      <td>snow_conditions</td>\n",
       "      <td>Karsten von Hoesslin</td>\n",
       "      <td>41</td>\n",
       "      <td>43.497253</td>\n",
       "      <td>-110.954924</td>\n",
       "      <td>MountainHub</td>\n",
       "      <td>Weather obvs on Edelweiss \\nTime: 14:19\\n2778m...</td>\n",
       "      <td>170</td>\n",
       "      <td>2020-01-12 14:37:53.235</td>\n",
       "    </tr>\n",
       "    <tr>\n",
       "      <th>51</th>\n",
       "      <td>5e1a6691e8cb0a6ff7a44af4</td>\n",
       "      <td>1.578788e+12</td>\n",
       "      <td>snow_conditions</td>\n",
       "      <td>Karsten von Hoesslin</td>\n",
       "      <td>51</td>\n",
       "      <td>43.513594</td>\n",
       "      <td>-110.934426</td>\n",
       "      <td>MountainHub</td>\n",
       "      <td>Field Obs &amp; K9 training \\nTime 1625\\nWinds Cal...</td>\n",
       "      <td>150</td>\n",
       "      <td>2020-01-11 16:20:25.887</td>\n",
       "    </tr>\n",
       "  </tbody>\n",
       "</table>\n",
       "</div>"
      ],
      "text/plain": [
       "                      obs_id     timestamp         obs_type  \\\n",
       "6   5e20f99f90f4304604681cf4  1.579219e+12    snowpack_test   \n",
       "9   5e1fa6894fdb45291ad99625  1.579133e+12  snow_conditions   \n",
       "18  5e1fe41c21aa1476f41f2861  1.579098e+12  snow_conditions   \n",
       "22  5e1e4b71fe74e848ff10cda0  1.579044e+12  snow_conditions   \n",
       "26  5e1e696c27c9690d79ce307d  1.579025e+12    snowpack_test   \n",
       "29  5e1cdabe21b9f44090eae92b  1.578949e+12  snow_conditions   \n",
       "34  5e1cd0a221b9f44090ead68a  1.578947e+12  snow_conditions   \n",
       "36  5e1cc32521b9f44090eabf33  1.578943e+12  snow_conditions   \n",
       "41  5e1e4aaceff2ff59509d5865  1.578869e+12  snow_conditions   \n",
       "51  5e1a6691e8cb0a6ff7a44af4  1.578788e+12  snow_conditions   \n",
       "\n",
       "             author_name  id        lat         lng       source  \\\n",
       "6            Dusty Hanna   6  43.431503  142.641712  MountainHub   \n",
       "9   Karsten von Hoesslin   9  47.467110 -115.845984  MountainHub   \n",
       "18          Brint Markle  18  40.666391 -111.538634  MountainHub   \n",
       "22  Karsten von Hoesslin  22  46.919965 -113.874880  MountainHub   \n",
       "26         Allen OBannon  26  43.510962 -110.920887  MountainHub   \n",
       "29                   DKS  29  42.789151 -122.146456  MountainHub   \n",
       "34                   DKS  34  42.787901 -122.150746  MountainHub   \n",
       "36                   DKS  36  42.787124 -122.142332  MountainHub   \n",
       "41  Karsten von Hoesslin  41  43.497253 -110.954924  MountainHub   \n",
       "51  Karsten von Hoesslin  51  43.513594 -110.934426  MountainHub   \n",
       "\n",
       "                                              comment          snow_depth  \\\n",
       "6                                          01/16/2019                  90   \n",
       "9   Full profile. \\nCTE4 Down 10\\nCTM3 Down 21\\nTi...                 170   \n",
       "18                                  CSO Snow Depth Ob                 102   \n",
       "22  Field Obs & Full Profile\\nTime: 14:15\\nWind: N...                  73   \n",
       "26  ECTN15 20 cm down, ECTN28  40 cm down all on d...                 170   \n",
       "29                                       150c to rain  239.99999095961812   \n",
       "34                                  85c to rain layer  178.99999325738185   \n",
       "36                                100cm to rain layer  152.99999423675655   \n",
       "41  Weather obvs on Edelweiss \\nTime: 14:19\\n2778m...                 170   \n",
       "51  Field Obs & K9 training \\nTime 1625\\nWinds Cal...                 150   \n",
       "\n",
       "                  datetime  \n",
       "6  2020-01-16 16:02:19.678  \n",
       "9  2020-01-15 15:55:34.912  \n",
       "18 2020-01-15 06:21:55.349  \n",
       "22 2020-01-14 15:13:45.501  \n",
       "26 2020-01-14 10:06:29.357  \n",
       "29 2020-01-13 13:00:37.106  \n",
       "34 2020-01-13 12:17:28.198  \n",
       "36 2020-01-13 11:19:55.480  \n",
       "41 2020-01-12 14:37:53.235  \n",
       "51 2020-01-11 16:20:25.887  "
      ]
     },
     "execution_count": 11,
     "metadata": {},
     "output_type": "execute_result"
    }
   ],
   "source": [
    "# Move this assignment into parse_data()\n",
    "df['datetime'] = df['timestamp'].apply(timestamp_to_datetime)\n",
    "df.head(10)"
   ]
  },
  {
   "cell_type": "code",
   "execution_count": 12,
   "metadata": {},
   "outputs": [
    {
     "data": {
      "text/plain": [
       "snow_conditions    15\n",
       "snowpack_test       5\n",
       "Name: obs_type, dtype: int64"
      ]
     },
     "execution_count": 12,
     "metadata": {},
     "output_type": "execute_result"
    }
   ],
   "source": [
    "df.obs_type.value_counts()"
   ]
  },
  {
   "cell_type": "code",
   "execution_count": 13,
   "metadata": {},
   "outputs": [
    {
     "data": {
      "text/plain": [
       "(Timestamp('2020-01-02 09:31:37.767000'),\n",
       " Timestamp('2020-01-16 16:02:19.678000'))"
      ]
     },
     "execution_count": 13,
     "metadata": {},
     "output_type": "execute_result"
    }
   ],
   "source": [
    "df.datetime.min(), df.datetime.max()"
   ]
  },
  {
   "cell_type": "markdown",
   "metadata": {},
   "source": [
    "### Examine the `pagination` information in the response"
   ]
  },
  {
   "cell_type": "code",
   "execution_count": 14,
   "metadata": {},
   "outputs": [
    {
     "data": {
      "text/plain": [
       "dict_keys(['results', 'pagination'])"
      ]
     },
     "execution_count": 14,
     "metadata": {},
     "output_type": "execute_result"
    }
   ],
   "source": [
    "jsonresponse.keys()"
   ]
  },
  {
   "cell_type": "code",
   "execution_count": 15,
   "metadata": {},
   "outputs": [
    {
     "data": {
      "text/plain": [
       "{'perPage': 500,\n",
       " 'thisPage': 138,\n",
       " 'after': 1579292058509,\n",
       " 'before': 1577826355941}"
      ]
     },
     "execution_count": 15,
     "metadata": {},
     "output_type": "execute_result"
    }
   ],
   "source": [
    "jsonresponse['pagination']"
   ]
  },
  {
   "cell_type": "code",
   "execution_count": 16,
   "metadata": {},
   "outputs": [
    {
     "data": {
      "text/plain": [
       "(datetime.datetime(2019, 12, 31, 13, 5, 55, 941000),\n",
       " datetime.datetime(2020, 1, 17, 12, 14, 18, 509000))"
      ]
     },
     "execution_count": 16,
     "metadata": {},
     "output_type": "execute_result"
    }
   ],
   "source": [
    "timestamp_to_datetime(jsonresponse['pagination']['before']), timestamp_to_datetime(jsonresponse['pagination']['after'])"
   ]
  },
  {
   "cell_type": "code",
   "execution_count": null,
   "metadata": {},
   "outputs": [],
   "source": []
  }
 ],
 "metadata": {
  "kernelspec": {
   "display_name": "Python [conda env:mountainhubapi]",
   "language": "python",
   "name": "conda-env-mountainhubapi-py"
  },
  "language_info": {
   "codemirror_mode": {
    "name": "ipython",
    "version": 3
   },
   "file_extension": ".py",
   "mimetype": "text/x-python",
   "name": "python",
   "nbconvert_exporter": "python",
   "pygments_lexer": "ipython3",
   "version": "3.7.6"
  }
 },
 "nbformat": 4,
 "nbformat_minor": 4
}
